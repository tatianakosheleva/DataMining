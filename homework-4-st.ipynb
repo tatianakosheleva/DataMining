{
 "cells": [
  {
   "cell_type": "markdown",
   "metadata": {},
   "source": [
    "# Домашнее задание 4. Конструирование текстовых признаков из твитов пользователей"
   ]
  },
  {
   "cell_type": "markdown",
   "metadata": {},
   "source": [
    "## Сбор данных"
   ]
  },
  {
   "cell_type": "markdown",
   "metadata": {},
   "source": [
    "Первый этап - сбор твитов пользователей. Необходимо подключаться к Twitter API и запрашивать твиты по id пользователя. \n",
    "Подключение к API подробно описано в ДЗ 1."
   ]
  },
  {
   "cell_type": "code",
   "execution_count": 4,
   "metadata": {
    "collapsed": false
   },
   "outputs": [],
   "source": [
    "import twitter\n",
    "\n",
    "CONSUMER_KEY = \"03Ai0vQvQ5cbkf2PqMLDKqhmE\"\n",
    "CONSUMER_SECRET = \"ROGs6elMuhmnfTuky25EhoNvvTbRT9uXe7c4r2GEw6LRQpxopE\"\n",
    "\n",
    "ACCESS_TOKEN_KEY = \"4310324793-f8UuXkQui6m0bpwlt9Us3O8LQQMUVebBF8KCs6F\"\n",
    "ACCESS_TOKEN_SECRET = \"oySIWDx2F55bTyVNEqvhi5Qmc2ZQUlKtxVrwthB9IQrkQ\"\n",
    "\n",
    "api = twitter.Api(consumer_key=CONSUMER_KEY, \n",
    "                  consumer_secret=CONSUMER_SECRET, \n",
    "                  access_token_key=ACCESS_TOKEN_KEY, \n",
    "                  access_token_secret=ACCESS_TOKEN_SECRET,\n",
    "                  sleep_on_rate_limit=True)"
   ]
  },
  {
   "cell_type": "markdown",
   "metadata": {},
   "source": [
    "Для получения твитов пользователя может быть использован метод GetUserTimeline из библиотеки python-twitter. Он позволяет получить не более 200 твитов пользователя. По каждому пользователю достаточно собрать 200 твитов.\n",
    "\n",
    "Метод имеет ограничение по количеству запросов в секунду. Для получения информации о промежутке времени, которое необходимо подождать для повторного обращения к API может быть использован метод `GetSleepTime`. Для получения информации об ограничениях запросов с помощью метода `GetUserTimeLine` необходимо вызывать `GetSleepTime` с параметром \"statuses/user_timeline\".\n",
    "\n",
    "Метод GetUserTimeline возвращает объекты типа Status. У этих объектов есть метод AsDict, который позволяет представить твит в виде словаря.\n",
    "\n",
    "Id пользователей необходимо считать из файла, как было сделано в ДЗ 1.\n",
    "\n",
    "Необходимо реализовать функцию `get_user_tweets(user_id)`. Входной параметр - id пользователя из файла. Возвращаемое значение - массив твитов пользователя, где каждый твит представлен в виде словаря. Предполагается, что информация о пользователе содержится в твитах, которые пользователь написал сам. Это означает, что можно попробовать отфильтровать ответы другим пользователям, ссылки и ретвиты, а так же картинки и видео, так как наша цель - найти текстовую информацию."
   ]
  },
  {
   "cell_type": "code",
   "execution_count": 5,
   "metadata": {
    "collapsed": false
   },
   "outputs": [],
   "source": [
    "import re\n",
    "\"\"\"import os\n",
    "import json\n",
    "file_name = 'downloded_tweets'\n",
    "if not os.path.exists(file_name):\n",
    "    os.makedirs(file_name)\"\"\"\n",
    "    \n",
    "    \n",
    "def get_user_tweets(user_id):\n",
    "    \"\"\"returns list of tweets as dicts\"\"\"\n",
    "    # your code here\n",
    "    #global file_name\n",
    "    user_tweets = []\n",
    "    try:\n",
    "        statuses = api.GetUserTimeline(user_id=user_id, count=200, include_rts ='false', exclude_replies ='true') # exclude retweets and replies\n",
    "    except twitter.TwitterError:\n",
    "        print 'error'\n",
    "        statuses = ''\n",
    "    except ValueError:\n",
    "        print 'error'\n",
    "        statuses = ''\n",
    "    for s in statuses:\n",
    "        if (not s.urls) and (s.media is None): # do not include url and media (photo and video)\n",
    "            s.text = re.sub(r\"http\\S+\", \"\", s.text) # if there is other links in tweets\n",
    "            user_tweets.append({'lang': s.lang, \n",
    "                 'favorited': s.favorited, \n",
    "                 'truncated': s.truncated, \n",
    "                 'text': s.text, \n",
    "                 'created_at': s.created_at, \n",
    "                 'retweeted': s.retweeted, \n",
    "                 'source': s.source, \n",
    "                 'user': {'id': s.user.id}, \n",
    "                 'id': s.id})\n",
    "    return user_tweets"
   ]
  },
  {
   "cell_type": "code",
   "execution_count": null,
   "metadata": {
    "collapsed": false,
    "scrolled": false
   },
   "outputs": [],
   "source": [
    "#get_user_tweets(2330149164)"
   ]
  },
  {
   "cell_type": "markdown",
   "metadata": {},
   "source": [
    "## Разбор текста твита"
   ]
  },
  {
   "cell_type": "markdown",
   "metadata": {},
   "source": [
    "Обработка текста предполагает разбиение текста на отдельные элементы - параграфы, предложения, слова. Мы будем преобразовывать текст твита к словам. Для этого текст необходимо разбить на слова. Сделать это можно, например, с помощью регулярного выражения.\n",
    "\n",
    "Необходимо реализовать функцию, `get_words(text)`. Входной параметр - строка с текстом. Возвращаемое значение - массив строк (слов). Обратите внимание, что нужно учесть возможное наличие пунктуации и выделить по возможности только слова. "
   ]
  },
  {
   "cell_type": "code",
   "execution_count": 6,
   "metadata": {
    "collapsed": false
   },
   "outputs": [],
   "source": [
    "def get_words(text):\n",
    "    \"\"\"returns list of words\"\"\"\n",
    "    # your code here\n",
    "    text = text.lower()\n",
    "    words = []\n",
    "    for w in text.split():\n",
    "        w = re.sub(r'[!\\?@.,;:\\-%\\#\\(\\)\\$\\\\/\\'\\\"\\*\\+\\[\\]<>_&\\d]', '', w) # delete symbols\n",
    "        if w: # if w is not empty string\n",
    "            words.append(w)\n",
    "    return words"
   ]
  },
  {
   "cell_type": "code",
   "execution_count": null,
   "metadata": {
    "collapsed": false
   },
   "outputs": [],
   "source": [
    "#get_words(u'😏 ')"
   ]
  },
  {
   "cell_type": "markdown",
   "metadata": {},
   "source": [
    "Далее полученные слова необходимо привести к нормальной форме. То есть привести их к форме единственного числа настоящего времени и пр. Сделать это можно с помощью библиотеки nltk. Информацию по загрузке, установке библиотеки и примерах использования можно найти на сайте http://www.nltk.org/\n",
    "\n",
    "Для загрузки всех необходимых словарей можно воспользоваться методом download из библиотеки nltk."
   ]
  },
  {
   "cell_type": "code",
   "execution_count": 7,
   "metadata": {
    "collapsed": false
   },
   "outputs": [],
   "source": [
    "import nltk\n",
    "#nltk.download()"
   ]
  },
  {
   "cell_type": "markdown",
   "metadata": {},
   "source": [
    "Для дальнейшей обработки слова должны быть приведены к нижнему регистру. \n",
    "\n",
    "Для приведения к нормальной форме можно использовать `WordNetLemmatizer` из библиотеки nltk. У этого класса есть метод `lemmatize`.\n",
    "\n",
    "Также необходимо убрать из текста так называемые стоп-слова. Это часто используемые слова, не несущие смысловой нагрузки для наших задач. Сделать это можно с помощью `stopwords` из nltk.corpus"
   ]
  },
  {
   "cell_type": "markdown",
   "metadata": {},
   "source": [
    "Необходимо реализовать функцию `get_tokens(words)`. Входной параметр - массив слов. Возвращаемое значение - массив токенов."
   ]
  },
  {
   "cell_type": "code",
   "execution_count": 8,
   "metadata": {
    "collapsed": false
   },
   "outputs": [],
   "source": [
    "from nltk.corpus import stopwords\n",
    "from nltk.stem import WordNetLemmatizer\n",
    "def get_tokens(words):\n",
    "    \"\"\"returns list of tokens\"\"\"\n",
    "    # your code here\n",
    "    tokens = []\n",
    "    stop_words = stopwords.words('english') # get stop words\n",
    "    wnl = WordNetLemmatizer()\n",
    "    for w in words:\n",
    "        w = wnl.lemmatize(w) # normalize\n",
    "        if (w not in stop_words) and w.isalpha(): # exclude smiles\n",
    "            tokens.append(w)\n",
    "    return tokens"
   ]
  },
  {
   "cell_type": "markdown",
   "metadata": {},
   "source": [
    "Необходимо реализовать функцию `get_tweet_tokens(tweet)`. Входной параметр - текст твита. Возвращаемое значение -- токены твита. "
   ]
  },
  {
   "cell_type": "code",
   "execution_count": 9,
   "metadata": {
    "collapsed": false
   },
   "outputs": [],
   "source": [
    "def get_tweet_tokens(tweet):\n",
    "    # your code here\n",
    "    words = get_words(tweet)\n",
    "    return get_tokens(words)"
   ]
  },
  {
   "cell_type": "markdown",
   "metadata": {},
   "source": [
    "Необходимо реализовать функцию `collect_users_tokens()`. Функция должна сконструировать матрицу признаков пользователей. В этой матрице строка - пользователь. Столбец - токен. На пересечении - сколько раз токен встречается у пользователя.\n",
    "Для построения матрицы можно использовать `DictVectorizer` из `sklearn.feature_extraction`."
   ]
  },
  {
   "cell_type": "code",
   "execution_count": 10,
   "metadata": {
    "collapsed": true
   },
   "outputs": [],
   "source": [
    "def count_tokens(user_tokens): # create dictionary to count user tokens\n",
    "    tokens_amt = {}\n",
    "    for token in user_tokens:\n",
    "        if token in tokens_amt:\n",
    "            tokens_amt[token] += 1\n",
    "        else:\n",
    "            tokens_amt[token] = 1\n",
    "    return tokens_amt"
   ]
  },
  {
   "cell_type": "code",
   "execution_count": 11,
   "metadata": {
    "collapsed": false
   },
   "outputs": [],
   "source": [
    "def collect_users_tokens(df_users):\n",
    "    \"\"\"returns users list and list of user dicts. Each dict contains frequence of user tokens\"\"\"\n",
    "    # your code here\n",
    "    # save intermediate result\n",
    "    users = df_users['uid'].values.tolist()\n",
    "    user_tokens = [] # list of user tokens\n",
    "    user_tokens_amt = [] # list of dictionaries\n",
    "    \n",
    "    for user in users:\n",
    "        #print user\n",
    "        if users.index(user) & 127 == 0:\n",
    "            print users.index(user)\n",
    "        user_tweets = get_user_tweets(user) # get user tweets\n",
    "        for tweet in user_tweets:\n",
    "            user_tokens += get_tweet_tokens(tweet['text'])\n",
    "        user_tokens_amt.append(count_tokens(user_tokens))\n",
    "         \n",
    "    return users, user_tokens_amt"
   ]
  },
  {
   "cell_type": "code",
   "execution_count": null,
   "metadata": {
    "collapsed": false,
    "scrolled": false
   },
   "outputs": [
    {
     "name": "stdout",
     "output_type": "stream",
     "text": [
      "0\n",
      "error\n",
      "128\n",
      "error\n",
      "error\n",
      "256\n",
      "error\n",
      "384\n",
      "error\n",
      "error\n",
      "error\n",
      "error\n",
      "error\n",
      "error\n",
      "512\n",
      "error\n",
      "error\n",
      "error\n",
      "640\n",
      "error\n",
      "error\n",
      "768\n",
      "error\n",
      "error\n",
      "error\n",
      "896\n",
      "error\n",
      "error\n",
      "error\n",
      "error\n",
      "1024\n",
      "error\n",
      "error\n",
      "error\n",
      "error\n",
      "error\n",
      "1152\n",
      "error\n",
      "error\n",
      "error\n",
      "error\n",
      "error\n",
      "1280\n",
      "error\n",
      "error\n",
      "error\n",
      "error\n",
      "error\n",
      "error\n",
      "1408\n",
      "error\n",
      "error\n",
      "error\n",
      "1536\n",
      "error\n",
      "error\n",
      "error\n",
      "1664\n",
      "error\n"
     ]
    }
   ],
   "source": [
    "import pandas as pd\n",
    "from collections import defaultdict\n",
    "import json\n",
    "from sklearn.feature_extraction import DictVectorizer\n",
    "\n",
    "\"\"\"v = DictVectorizer()\n",
    "D = [{'foo': 1, 'bar': 2}, {'foo': 3, 'baz': 1}]\n",
    "print v.fit_transform(D).toarray()\n",
    "print v.get_feature_names()\"\"\"\n",
    "\n",
    "TRAINING_SET_URL = \"train.csv\"\n",
    "EXAMPLE_SET_URL = \"test.csv\"\n",
    "df_users_train = pd.read_csv(TRAINING_SET_URL, sep=\",\", header=0)\n",
    "df_users_ex = pd.read_csv(EXAMPLE_SET_URL, sep=\",\", header=0)\n",
    "df_users_ex['cls'] = None\n",
    "df_users = pd.concat([df_users_train, df_users_ex]) # поставить комменнтарий перед строчкой!\n",
    "#df_users = df_users[3072:3200]\n",
    "\n",
    "\n",
    "users, users_tokens = collect_users_tokens(df_users) # поставить комменнтарий перед строчкой!"
   ]
  },
  {
   "cell_type": "code",
   "execution_count": null,
   "metadata": {
    "collapsed": true
   },
   "outputs": [],
   "source": [
    "df_users3000 = df_users[:3000]\n",
    "users3000, users_tokens3000 = collect_users_tokens(df_users3000)\n",
    "print 'ok'\n",
    "df_users6000 = df_users[3000:6000]\n",
    "users6000, users_tokens6000 = collect_users_tokens(df_users6000)\n",
    "print 'ok'\n",
    "df_users9000 = df_users[6000:9000]\n",
    "users9000, users_tokens9000 = collect_users_tokens(df_users9000)\n",
    "print 'ok'\n",
    "df_users11000 = df_users[9000:]\n",
    "users11000, users_tokens11000 = collect_users_tokens(df_users11000)\n",
    "print 'ok'"
   ]
  },
  {
   "cell_type": "raw",
   "metadata": {},
   "source": [
    "Сохраним полученные данные в файл. Используется метод savez из numpy. "
   ]
  },
  {
   "cell_type": "code",
   "execution_count": null,
   "metadata": {
    "collapsed": false
   },
   "outputs": [],
   "source": [
    "import numpy as np\n",
    "np.savez(\"files/out_4.dat\", data=vs, users=users, users_tokens=users_tokens )"
   ]
  },
  {
   "cell_type": "markdown",
   "metadata": {},
   "source": [
    "Далее для получения представления о полученной информацию о токенах предлагается отобразить ее в виде облака тэгов. [Подсказка](http://anokhin.github.io/img/tag_cloud.png). "
   ]
  },
  {
   "cell_type": "code",
   "execution_count": null,
   "metadata": {
    "collapsed": true
   },
   "outputs": [],
   "source": [
    "v = DictVectorizer()\n",
    "vs = v.fit_transform(users_tokens)"
   ]
  },
  {
   "cell_type": "code",
   "execution_count": null,
   "metadata": {
    "collapsed": false
   },
   "outputs": [],
   "source": [
    "def draw_tag_cloud(v, vs):\n",
    "    \"\"\"Draws tag cloud of found tokens\"\"\"\n",
    "    # your code here\n",
    "    return"
   ]
  }
 ],
 "metadata": {
  "anaconda-cloud": {},
  "kernelspec": {
   "display_name": "Python [Root]",
   "language": "python",
   "name": "Python [Root]"
  },
  "language_info": {
   "codemirror_mode": {
    "name": "ipython",
    "version": 2
   },
   "file_extension": ".py",
   "mimetype": "text/x-python",
   "name": "python",
   "nbconvert_exporter": "python",
   "pygments_lexer": "ipython2",
   "version": "2.7.12"
  }
 },
 "nbformat": 4,
 "nbformat_minor": 0
}
